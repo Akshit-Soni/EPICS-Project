{
  "cells": [
    {
      "cell_type": "code",
      "execution_count": null,
      "metadata": {
        "id": "6SGxxG3rMj0r"
      },
      "outputs": [],
      "source": [
        "from tensorflow.keras.layers import Input, Lambda, Dense, Flatten\n",
        "from tensorflow.keras.models import Model\n",
        "#from tensorflow.keras.applications.inception_v3 import InceptionV3\n",
        "from tensorflow.keras.applications.resnet_v2 import ResNet152V2, preprocess_input\n",
        "from tensorflow.keras.preprocessing import image\n",
        "from tensorflow.keras.preprocessing.image import ImageDataGenerator,load_img\n",
        "from tensorflow.keras.models import Sequential\n",
        "import numpy as np\n",
        "from glob import glob\n",
        "#from tensorflow.keras.applications.mobilenet_v3 import MobileNetV3\n",
        "import matplotlib.pyplot as plt\n",
        "from tensorflow.keras.applications.vgg19 import VGG19"
      ]
    },
    {
      "cell_type": "code",
      "execution_count": null,
      "metadata": {
        "id": "MTCZn393Mtnh"
      },
      "outputs": [],
      "source": [
        "IMAGE_SIZE = [224, 224]\n",
        "\n",
        "train_path = '/content/drive/MyDrive/dataset/Training'\n",
        "valid_path = '/content/drive/MyDrive/dataset/Testing'"
      ]
    },
    {
      "cell_type": "code",
      "execution_count": null,
      "metadata": {
        "id": "wJExZOckMtlK"
      },
      "outputs": [],
      "source": [
        "vgg19 = VGG19(input_shape=IMAGE_SIZE + [3], weights='imagenet', include_top=False)"
      ]
    },
    {
      "cell_type": "code",
      "execution_count": null,
      "metadata": {
        "id": "kb5dCxJXMtij"
      },
      "outputs": [],
      "source": [
        "for layer in vgg19.layers:\n",
        "    layer.trainable = False"
      ]
    },
    {
      "cell_type": "code",
      "execution_count": null,
      "metadata": {
        "id": "TLzEocdvMtgN"
      },
      "outputs": [],
      "source": [
        "folders = glob('/content/drive/MyDrive/dataset/Training/*')"
      ]
    },
    {
      "cell_type": "code",
      "execution_count": null,
      "metadata": {
        "id": "g61z5lsZMtdm"
      },
      "outputs": [],
      "source": [
        "x = Flatten()(vgg19.output)"
      ]
    },
    {
      "cell_type": "code",
      "execution_count": null,
      "metadata": {
        "id": "Yy45aZANMtbA"
      },
      "outputs": [],
      "source": [
        "prediction = Dense(len(folders), activation='softmax')(x)\n",
        "model = Model(inputs=vgg19.input, outputs=prediction)"
      ]
    },
    {
      "cell_type": "code",
      "execution_count": null,
      "metadata": {
        "colab": {
          "base_uri": "https://localhost:8080/"
        },
        "id": "qcZEOAv1MtYp",
        "outputId": "292407e8-3be6-4919-c9b5-e095043a1142"
      },
      "outputs": [
        {
          "output_type": "stream",
          "name": "stdout",
          "text": [
            "Model: \"model\"\n",
            "_________________________________________________________________\n",
            " Layer (type)                Output Shape              Param #   \n",
            "=================================================================\n",
            " input_1 (InputLayer)        [(None, 224, 224, 3)]     0         \n",
            "                                                                 \n",
            " block1_conv1 (Conv2D)       (None, 224, 224, 64)      1792      \n",
            "                                                                 \n",
            " block1_conv2 (Conv2D)       (None, 224, 224, 64)      36928     \n",
            "                                                                 \n",
            " block1_pool (MaxPooling2D)  (None, 112, 112, 64)      0         \n",
            "                                                                 \n",
            " block2_conv1 (Conv2D)       (None, 112, 112, 128)     73856     \n",
            "                                                                 \n",
            " block2_conv2 (Conv2D)       (None, 112, 112, 128)     147584    \n",
            "                                                                 \n",
            " block2_pool (MaxPooling2D)  (None, 56, 56, 128)       0         \n",
            "                                                                 \n",
            " block3_conv1 (Conv2D)       (None, 56, 56, 256)       295168    \n",
            "                                                                 \n",
            " block3_conv2 (Conv2D)       (None, 56, 56, 256)       590080    \n",
            "                                                                 \n",
            " block3_conv3 (Conv2D)       (None, 56, 56, 256)       590080    \n",
            "                                                                 \n",
            " block3_conv4 (Conv2D)       (None, 56, 56, 256)       590080    \n",
            "                                                                 \n",
            " block3_pool (MaxPooling2D)  (None, 28, 28, 256)       0         \n",
            "                                                                 \n",
            " block4_conv1 (Conv2D)       (None, 28, 28, 512)       1180160   \n",
            "                                                                 \n",
            " block4_conv2 (Conv2D)       (None, 28, 28, 512)       2359808   \n",
            "                                                                 \n",
            " block4_conv3 (Conv2D)       (None, 28, 28, 512)       2359808   \n",
            "                                                                 \n",
            " block4_conv4 (Conv2D)       (None, 28, 28, 512)       2359808   \n",
            "                                                                 \n",
            " block4_pool (MaxPooling2D)  (None, 14, 14, 512)       0         \n",
            "                                                                 \n",
            " block5_conv1 (Conv2D)       (None, 14, 14, 512)       2359808   \n",
            "                                                                 \n",
            " block5_conv2 (Conv2D)       (None, 14, 14, 512)       2359808   \n",
            "                                                                 \n",
            " block5_conv3 (Conv2D)       (None, 14, 14, 512)       2359808   \n",
            "                                                                 \n",
            " block5_conv4 (Conv2D)       (None, 14, 14, 512)       2359808   \n",
            "                                                                 \n",
            " block5_pool (MaxPooling2D)  (None, 7, 7, 512)         0         \n",
            "                                                                 \n",
            " flatten (Flatten)           (None, 25088)             0         \n",
            "                                                                 \n",
            " dense (Dense)               (None, 3)                 75267     \n",
            "                                                                 \n",
            "=================================================================\n",
            "Total params: 20099651 (76.67 MB)\n",
            "Trainable params: 75267 (294.01 KB)\n",
            "Non-trainable params: 20024384 (76.39 MB)\n",
            "_________________________________________________________________\n"
          ]
        }
      ],
      "source": [
        "model.summary()"
      ]
    },
    {
      "cell_type": "code",
      "execution_count": null,
      "metadata": {
        "id": "uiAsFLjOMtWV"
      },
      "outputs": [],
      "source": [
        "model.compile(\n",
        "  loss='categorical_crossentropy',\n",
        "  optimizer='adam',\n",
        "  metrics=['accuracy']\n",
        ")"
      ]
    },
    {
      "cell_type": "code",
      "execution_count": null,
      "metadata": {
        "id": "4XnTKg_fMtQV"
      },
      "outputs": [],
      "source": [
        "from tensorflow.keras.preprocessing.image import ImageDataGenerator\n",
        "\n",
        "train_datagen = ImageDataGenerator(rescale = 1./255,\n",
        "                                   shear_range = 0.2,\n",
        "                                   zoom_range = 0.2,\n",
        "                                   horizontal_flip = True)\n",
        "\n",
        "test_datagen = ImageDataGenerator(rescale = 1./255)"
      ]
    },
    {
      "cell_type": "code",
      "execution_count": null,
      "metadata": {
        "colab": {
          "base_uri": "https://localhost:8080/"
        },
        "id": "cZqP93JIMtN-",
        "outputId": "5c51b1e4-f566-4b45-c7f8-a8bc43b67bac"
      },
      "outputs": [
        {
          "output_type": "stream",
          "name": "stdout",
          "text": [
            "Found 1244 images belonging to 3 classes.\n"
          ]
        }
      ],
      "source": [
        "training_set = train_datagen.flow_from_directory('/content/drive/MyDrive/dataset/Training',\n",
        "                                                 target_size = (224, 224),\n",
        "                                                 batch_size = 50,\n",
        "                                                 class_mode = 'categorical')"
      ]
    },
    {
      "cell_type": "code",
      "execution_count": null,
      "metadata": {
        "colab": {
          "base_uri": "https://localhost:8080/"
        },
        "id": "7V_xvTQ4MtL6",
        "outputId": "8f4bac77-6683-41c5-9678-81846f2bcbac"
      },
      "outputs": [
        {
          "output_type": "stream",
          "name": "stdout",
          "text": [
            "Found 539 images belonging to 3 classes.\n"
          ]
        }
      ],
      "source": [
        "test_set = test_datagen.flow_from_directory('/content/drive/MyDrive/dataset/Testing',\n",
        "                                            target_size = (224, 224),\n",
        "                                            batch_size = 50,\n",
        "                                            class_mode = 'categorical')"
      ]
    },
    {
      "cell_type": "code",
      "execution_count": null,
      "metadata": {
        "colab": {
          "base_uri": "https://localhost:8080/"
        },
        "id": "Rh52NpT6MtJj",
        "outputId": "1de9b55f-b51a-4289-e0af-3ccb22742a2c"
      },
      "outputs": [
        {
          "output_type": "stream",
          "name": "stderr",
          "text": [
            "<ipython-input-14-89113a27acbd>:1: UserWarning: `Model.fit_generator` is deprecated and will be removed in a future version. Please use `Model.fit`, which supports generators.\n",
            "  r = model.fit_generator(\n"
          ]
        },
        {
          "output_type": "stream",
          "name": "stdout",
          "text": [
            "Epoch 1/5\n",
            "25/25 [==============================] - 773s 31s/step - loss: 1.0837 - accuracy: 0.5764 - val_loss: 0.9032 - val_accuracy: 0.6939\n",
            "Epoch 2/5\n",
            "25/25 [==============================] - 33s 1s/step - loss: 0.5204 - accuracy: 0.7781 - val_loss: 0.7608 - val_accuracy: 0.7365\n",
            "Epoch 3/5\n",
            "25/25 [==============================] - 33s 1s/step - loss: 0.3934 - accuracy: 0.8408 - val_loss: 0.7690 - val_accuracy: 0.7570\n",
            "Epoch 4/5\n",
            "25/25 [==============================] - 33s 1s/step - loss: 0.2980 - accuracy: 0.8987 - val_loss: 0.6716 - val_accuracy: 0.7811\n",
            "Epoch 5/5\n",
            "25/25 [==============================] - 33s 1s/step - loss: 0.2662 - accuracy: 0.9027 - val_loss: 0.6563 - val_accuracy: 0.7774\n"
          ]
        }
      ],
      "source": [
        "r = model.fit_generator(\n",
        "  training_set,\n",
        "  validation_data=test_set,\n",
        "  epochs=5,\n",
        "  steps_per_epoch=len(training_set),\n",
        "  validation_steps=len(test_set)\n",
        ")"
      ]
    },
    {
      "cell_type": "code",
      "execution_count": null,
      "metadata": {
        "colab": {
          "base_uri": "https://localhost:8080/",
          "height": 861
        },
        "id": "xnmPgOlnMtHN",
        "outputId": "957c5e5f-8261-44dc-c01b-9ff8f5b2ea2b"
      },
      "outputs": [
        {
          "output_type": "display_data",
          "data": {
            "text/plain": [
              "<Figure size 640x480 with 1 Axes>"
            ],
            "image/png": "[encoded data removed]"
          },
          "metadata": {}
        },
        {
          "output_type": "display_data",
          "data": {
            "text/plain": [
              "<Figure size 640x480 with 1 Axes>"
            ],
            "image/png": "[encoded data removed]"
          },
          "metadata": {}
        },
        {
          "output_type": "display_data",
          "data": {
            "text/plain": [
              "<Figure size 640x480 with 0 Axes>"
            ]
          },
          "metadata": {}
        }
      ],
      "source": [
        "plt.plot(r.history['loss'], label='train loss')\n",
        "plt.plot(r.history['val_loss'], label='val loss')\n",
        "plt.legend()\n",
        "plt.show()\n",
        "plt.savefig('LossVal_loss')\n",
        "plt.plot(r.history['accuracy'], label='train acc')\n",
        "plt.plot(r.history['val_accuracy'], label='val acc')\n",
        "plt.legend()\n",
        "plt.show()\n",
        "plt.savefig('AccVal_acc')"
      ]
    },
    {
      "cell_type": "code",
      "execution_count": null,
      "metadata": {
        "colab": {
          "base_uri": "https://localhost:8080/"
        },
        "id": "rAYZnQ3FMtEV",
        "outputId": "98aed70a-f713-4f52-be29-0668c0896ea3"
      },
      "outputs": [
        {
          "output_type": "stream",
          "name": "stderr",
          "text": [
            "/usr/local/lib/python3.10/dist-packages/keras/src/engine/training.py:3103: UserWarning: You are saving your model as an HDF5 file via `model.save()`. This file format is considered legacy. We recommend using instead the native Keras format, e.g. `model.save('my_model.keras')`.\n",
            "  saving_api.save_model(\n"
          ]
        }
      ],
      "source": [
        "from tensorflow.keras.models import load_model\n",
        "\n",
        "model.save('/content/drive/MyDrive/dataset/model/vgg16model.h5')"
      ]
    },
    {
      "cell_type": "code",
      "execution_count": null,
      "metadata": {
        "colab": {
          "base_uri": "https://localhost:8080/"
        },
        "id": "BQZvccmxMtBi",
        "outputId": "3596544d-8b10-4316-e63f-f7cc51cc7fd5"
      },
      "outputs": [
        {
          "output_type": "stream",
          "name": "stdout",
          "text": [
            "11/11 [==============================] - 8s 668ms/step\n"
          ]
        }
      ],
      "source": [
        "y_pred = model.predict(test_set)"
      ]
    },
    {
      "cell_type": "code",
      "execution_count": null,
      "metadata": {
        "colab": {
          "base_uri": "https://localhost:8080/"
        },
        "id": "Fnqwo8uwRRik",
        "outputId": "034590e6-cc1d-47ae-bf03-2a9546de8251"
      },
      "outputs": [
        {
          "output_type": "execute_result",
          "data": {
            "text/plain": [
              "array([[7.21291644e-06, 9.93756413e-01, 6.23635389e-03],\n",
              "       [4.93323058e-03, 4.12540406e-01, 5.82526386e-01],\n",
              "       [1.76871326e-02, 2.32477874e-01, 7.49835014e-01],\n",
              "       ...,\n",
              "       [6.50727674e-02, 8.10796916e-01, 1.24130294e-01],\n",
              "       [4.74746543e-04, 4.03879257e-03, 9.95486438e-01],\n",
              "       [6.11433983e-01, 9.20494273e-02, 2.96516597e-01]], dtype=float32)"
            ]
          },
          "metadata": {},
          "execution_count": 18
        }
      ],
      "source": [
        "y_pred"
      ]
    },
    {
      "cell_type": "code",
      "execution_count": null,
      "metadata": {
        "id": "zsoXrh79RRgf"
      },
      "outputs": [],
      "source": [
        "import numpy as np\n",
        "y_pred = np.argmax(y_pred, axis=1)"
      ]
    },
    {
      "cell_type": "code",
      "execution_count": null,
      "metadata": {
        "colab": {
          "base_uri": "https://localhost:8080/"
        },
        "id": "qWCiRwqmRReI",
        "outputId": "a37dc652-2e70-4409-8f5d-de74180220e9"
      },
      "outputs": [
        {
          "output_type": "stream",
          "name": "stdout",
          "text": [
            "Red Rot Red Rust Red Rust Red Rust Red Rust Red Rust Red Rot Red Rust Red Rust Red Rust Red Rust Red Rust Healthy Red Rot Red Rust Healthy Red Rot Healthy Healthy Healthy Red Rot Red Rot Red Rot Red Rot Red Rust Red Rust Red Rust Red Rust Healthy Healthy Red Rot Red Rust Healthy Red Rust Red Rust Red Rust Red Rust Healthy Red Rust Red Rot Red Rot Red Rot Red Rot Red Rot Healthy Red Rust Red Rot Red Rust Red Rot Red Rust Red Rot Healthy Red Rust Healthy Red Rust Red Rust Healthy Healthy Red Rot Red Rust Red Rust Healthy Red Rot Red Rust Healthy Red Rot Red Rot Red Rot Red Rot Red Rust Red Rot Healthy Healthy Red Rot Healthy Red Rust Healthy Red Rot Red Rot Red Rust Red Rust Red Rust Red Rust Red Rust Red Rot Red Rot Red Rust Red Rust Red Rust Red Rust Healthy Red Rust Healthy Red Rot Healthy Red Rust Healthy Red Rot Red Rot Red Rot Healthy Red Rot Healthy Red Rot Red Rust Red Rust Red Rust Healthy Red Rot Red Rust Healthy Red Rot Red Rust Red Rust Red Rot Red Rot Red Rot Healthy Red Rot Red Rust Red Rot Red Rot Red Rust Red Rust Healthy Healthy Healthy Red Rot Healthy Red Rust Red Rust Red Rust Healthy Red Rot Red Rot Healthy Red Rot Red Rust Red Rust Red Rot Red Rot Red Rust Healthy Red Rust Red Rot Healthy Healthy Healthy Red Rot Red Rust Healthy Healthy Healthy Red Rust Red Rust Red Rot Red Rust Healthy Red Rot Red Rust Healthy Red Rust Red Rust Healthy Red Rot Red Rust Red Rot Red Rust Red Rust Red Rot Red Rot Red Rust Red Rust Red Rot Red Rot Red Rust Healthy Healthy Red Rust Healthy Red Rot Red Rot Red Rust Red Rust Red Rust Red Rust Red Rust Red Rot Red Rot Red Rust Healthy Red Rot Red Rust Healthy Red Rust Red Rot Red Rust Red Rust Red Rot Red Rot Red Rust Red Rot Healthy Healthy Red Rot Red Rust Red Rust Healthy Red Rust Red Rot Red Rust Red Rust Red Rust Red Rust Red Rust Red Rot Healthy Red Rot Red Rust Red Rust Red Rot Red Rust Healthy Red Rust Red Rot Red Rot Red Rot Red Rot Red Rot Red Rust Red Rot Red Rust Healthy Red Rust Healthy Red Rot Healthy Red Rot Red Rot Healthy Red Rust Red Rot Red Rust Red Rust Red Rot Healthy Red Rust Red Rust Red Rot Healthy Red Rot Red Rot Red Rust Red Rust Red Rust Red Rust Red Rust Red Rot Healthy Red Rust Healthy Red Rust Red Rot Healthy Red Rust Red Rust Red Rot Red Rust Red Rust Red Rust Red Rust Healthy Healthy Healthy Red Rot Red Rot Red Rot Red Rust Healthy Red Rust Red Rot Red Rot Healthy Red Rot Red Rust Red Rot Healthy Red Rust Red Rot Red Rust Red Rust Red Rot Healthy Red Rot Red Rot Red Rust Red Rot Healthy Healthy Healthy Red Rot Red Rust Red Rust Healthy Healthy Red Rot Red Rot Red Rot Red Rust Red Rust Red Rot Red Rust Red Rust Red Rust Healthy Healthy Red Rot Red Rust Healthy Healthy Red Rust Red Rust Healthy Healthy Red Rust Healthy Red Rot Healthy Red Rust Red Rust Red Rot Healthy Red Rot Red Rust Red Rot Red Rust Red Rust Healthy Red Rust Red Rust Red Rust Healthy Red Rust Healthy Red Rot Healthy Healthy Red Rot Red Rot Red Rot Red Rust Healthy Healthy Red Rot Healthy Red Rot Red Rot Red Rust Red Rot Red Rust Red Rot Red Rot Healthy Red Rust Red Rot Red Rot Red Rust Red Rot Red Rust Red Rust Healthy Healthy Red Rot Red Rust Healthy Healthy Red Rot Red Rot Red Rot Red Rot Healthy Red Rot Red Rust Red Rot Healthy Red Rust Red Rot Healthy Red Rot Red Rust Healthy Red Rust Healthy Red Rust Red Rot Healthy Red Rot Healthy Healthy Healthy Healthy Red Rot Red Rust Red Rot Red Rust Healthy Red Rust Red Rot Healthy Red Rust Red Rot Red Rust Red Rot Healthy Red Rust Healthy Red Rot Red Rust Red Rust Red Rot Red Rot Healthy Red Rot Red Rot Red Rot Healthy Red Rust Red Rust Healthy Red Rot Red Rot Healthy Healthy Red Rot Healthy Red Rot Red Rust Healthy Red Rot Healthy Red Rot Red Rot Healthy Red Rust Red Rot Healthy Red Rot Red Rot Healthy Red Rot Red Rust Red Rust Red Rot Healthy Red Rust Red Rot Red Rot Red Rust Red Rust Healthy Red Rot Healthy Red Rot Healthy Healthy Red Rust Healthy Red Rust Red Rust Healthy Red Rot Red Rot Healthy Red Rust Red Rot Red Rot Healthy Red Rot Red Rot Red Rust Healthy Red Rust Red Rot Healthy Red Rust Red Rust Healthy Red Rust Red Rust Healthy Red Rot Red Rust Red Rust Healthy Red Rust Healthy Red Rot Red Rot Red Rust Red Rust Red Rust Red Rust Red Rot Red Rot Healthy Red Rot Red Rust Red Rust Red Rot Red Rust Healthy Red Rot Red Rust Red Rust Red Rot Red Rot Healthy Healthy Red Rust Red Rust Red Rot Red Rust Red Rot Red Rust Red Rot Red Rust Red Rust Red Rot Red Rot Healthy Healthy Red Rot Red Rust Healthy Red Rust Healthy Red Rot Red Rust Healthy "
          ]
        }
      ],
      "source": [
        "y_pred\n",
        "l=['Healthy', 'Red Rot', 'Red Rust']\n",
        "for i in y_pred:\n",
        "     print(l[i], end=' ')"
      ]
    },
    {
      "cell_type": "code",
      "execution_count": null,
      "metadata": {
        "id": "D5NwMgMTRRb4"
      },
      "outputs": [],
      "source": []
    },
    {
      "cell_type": "code",
      "execution_count": null,
      "metadata": {
        "id": "6u8-RBceRRZJ"
      },
      "outputs": [],
      "source": [
        "from tensorflow.keras.models import load_model\n",
        "from tensorflow.keras.preprocessing import image"
      ]
    },
    {
      "cell_type": "code",
      "execution_count": null,
      "metadata": {
        "colab": {
          "base_uri": "https://localhost:8080/",
          "height": 269
        },
        "id": "tpD-LGhjRz_R",
        "outputId": "3f4facc2-a6a7-4269-a702-3975943c5f92"
      },
      "outputs": [
        {
          "output_type": "error",
          "ename": "FileNotFoundError",
          "evalue": "[Errno 2] No such file or directory: '/content/drive/MyDrive/dataset/test_image___sugarcane__red-rot.jpeg'",
          "traceback": [
            "\u001b[0;31m---------------------------------------------------------------------------\u001b[0m",
            "\u001b[0;31mFileNotFoundError\u001b[0m                         Traceback (most recent call last)",
            "\u001b[0;32m<ipython-input-22-750159234ea3>\u001b[0m in \u001b[0;36m<cell line: 1>\u001b[0;34m()\u001b[0m\n\u001b[0;32m----> 1\u001b[0;31m \u001b[0mimg\u001b[0m\u001b[0;34m=\u001b[0m\u001b[0mimage\u001b[0m\u001b[0;34m.\u001b[0m\u001b[0mload_img\u001b[0m\u001b[0;34m(\u001b[0m\u001b[0;34m'/content/drive/MyDrive/dataset/test_image___sugarcane__red-rot.jpeg'\u001b[0m\u001b[0;34m,\u001b[0m\u001b[0mtarget_size\u001b[0m\u001b[0;34m=\u001b[0m\u001b[0;34m(\u001b[0m\u001b[0;36m224\u001b[0m\u001b[0;34m,\u001b[0m\u001b[0;36m224\u001b[0m\u001b[0;34m)\u001b[0m\u001b[0;34m)\u001b[0m\u001b[0;34m\u001b[0m\u001b[0;34m\u001b[0m\u001b[0m\n\u001b[0m",
            "\u001b[0;32m/usr/local/lib/python3.10/dist-packages/keras/src/utils/image_utils.py\u001b[0m in \u001b[0;36mload_img\u001b[0;34m(path, grayscale, color_mode, target_size, interpolation, keep_aspect_ratio)\u001b[0m\n\u001b[1;32m    420\u001b[0m         \u001b[0;32mif\u001b[0m \u001b[0misinstance\u001b[0m\u001b[0;34m(\u001b[0m\u001b[0mpath\u001b[0m\u001b[0;34m,\u001b[0m \u001b[0mpathlib\u001b[0m\u001b[0;34m.\u001b[0m\u001b[0mPath\u001b[0m\u001b[0;34m)\u001b[0m\u001b[0;34m:\u001b[0m\u001b[0;34m\u001b[0m\u001b[0;34m\u001b[0m\u001b[0m\n\u001b[1;32m    421\u001b[0m             \u001b[0mpath\u001b[0m \u001b[0;34m=\u001b[0m \u001b[0mstr\u001b[0m\u001b[0;34m(\u001b[0m\u001b[0mpath\u001b[0m\u001b[0;34m.\u001b[0m\u001b[0mresolve\u001b[0m\u001b[0;34m(\u001b[0m\u001b[0;34m)\u001b[0m\u001b[0;34m)\u001b[0m\u001b[0;34m\u001b[0m\u001b[0;34m\u001b[0m\u001b[0m\n\u001b[0;32m--> 422\u001b[0;31m         \u001b[0;32mwith\u001b[0m \u001b[0mopen\u001b[0m\u001b[0;34m(\u001b[0m\u001b[0mpath\u001b[0m\u001b[0;34m,\u001b[0m \u001b[0;34m\"rb\"\u001b[0m\u001b[0;34m)\u001b[0m \u001b[0;32mas\u001b[0m \u001b[0mf\u001b[0m\u001b[0;34m:\u001b[0m\u001b[0;34m\u001b[0m\u001b[0;34m\u001b[0m\u001b[0m\n\u001b[0m\u001b[1;32m    423\u001b[0m             \u001b[0mimg\u001b[0m \u001b[0;34m=\u001b[0m \u001b[0mpil_image\u001b[0m\u001b[0;34m.\u001b[0m\u001b[0mopen\u001b[0m\u001b[0;34m(\u001b[0m\u001b[0mio\u001b[0m\u001b[0;34m.\u001b[0m\u001b[0mBytesIO\u001b[0m\u001b[0;34m(\u001b[0m\u001b[0mf\u001b[0m\u001b[0;34m.\u001b[0m\u001b[0mread\u001b[0m\u001b[0;34m(\u001b[0m\u001b[0;34m)\u001b[0m\u001b[0;34m)\u001b[0m\u001b[0;34m)\u001b[0m\u001b[0;34m\u001b[0m\u001b[0;34m\u001b[0m\u001b[0m\n\u001b[1;32m    424\u001b[0m     \u001b[0;32melse\u001b[0m\u001b[0;34m:\u001b[0m\u001b[0;34m\u001b[0m\u001b[0;34m\u001b[0m\u001b[0m\n",
            "\u001b[0;31mFileNotFoundError\u001b[0m: [Errno 2] No such file or directory: '/content/drive/MyDrive/dataset/test_image___sugarcane__red-rot.jpeg'"
          ]
        }
      ],
      "source": [
        "img=image.load_img('/content/drive/MyDrive/dataset/test_image___sugarcane__red-rot.jpeg',target_size=(224,224))"
      ]
    },
    {
      "cell_type": "code",
      "execution_count": null,
      "metadata": {
        "id": "NccCgK8hRz85"
      },
      "outputs": [],
      "source": [
        "x=image.img_to_array(img)\n",
        "x"
      ]
    },
    {
      "cell_type": "code",
      "execution_count": null,
      "metadata": {
        "id": "oJy0R68HRz5_"
      },
      "outputs": [],
      "source": [
        "x.shape"
      ]
    },
    {
      "cell_type": "code",
      "execution_count": null,
      "metadata": {
        "id": "YIbn34JyRz36"
      },
      "outputs": [],
      "source": [
        "x=x/255\n",
        "x"
      ]
    },
    {
      "cell_type": "code",
      "execution_count": null,
      "metadata": {
        "id": "7WD_IDlCR5zU"
      },
      "outputs": [],
      "source": [
        "import numpy as np\n",
        "x=np.expand_dims(x,axis=0)\n",
        "img_data=preprocess_input(x)\n",
        "img_data.shape"
      ]
    },
    {
      "cell_type": "code",
      "execution_count": null,
      "metadata": {
        "id": "KODkNhm8R5tG"
      },
      "outputs": [],
      "source": [
        "model.predict(img_data)"
      ]
    },
    {
      "cell_type": "code",
      "execution_count": null,
      "metadata": {
        "id": "5duuTTrGR5qe"
      },
      "outputs": [],
      "source": [
        "a=np.argmax(model.predict(img_data), axis=1)"
      ]
    },
    {
      "cell_type": "code",
      "execution_count": null,
      "metadata": {
        "id": "HYHwIeMBSAio"
      },
      "outputs": [],
      "source": [
        "a==1"
      ]
    },
    {
      "cell_type": "code",
      "execution_count": null,
      "metadata": {
        "id": "Y8_MyLw8SAY9"
      },
      "outputs": [],
      "source": [
        "import tensorflow as tf"
      ]
    },
    {
      "cell_type": "code",
      "execution_count": null,
      "metadata": {
        "id": "bE_IR__XSGc1"
      },
      "outputs": [],
      "source": [
        "def model_predict(img_path, model):\n",
        "    print(img_path)\n",
        "    img = image.load_img(img_path, target_size=(224, 224))\n",
        "    x = image.img_to_array(img)\n",
        "    x=x/255\n",
        "    x = np.expand_dims(x, axis=0)\n",
        "    preds = model.predict(x)\n",
        "    preds=np.argmax(preds, axis=1)\n",
        "    l=['Healthy', 'Red Rot', 'Red Rust']\n",
        "    print('Disease : ',l[int(preds)].upper())"
      ]
    },
    {
      "cell_type": "code",
      "execution_count": null,
      "metadata": {
        "id": "Jx5h7eU4SGZ-"
      },
      "outputs": [],
      "source": [
        "img_path=input('Enter the testing image path: ')\n",
        "preds = model_predict(img_path, model)\n",
        "preds"
      ]
    },
    {
      "cell_type": "code",
      "execution_count": null,
      "metadata": {
        "id": "ByVPscjgSGXP"
      },
      "outputs": [],
      "source": [
        "''"
      ]
    }
  ],
  "metadata": {
    "accelerator": "GPU",
    "colab": {
      "gpuType": "T4",
      "provenance": []
    },
    "kernelspec": {
      "display_name": "Python 3",
      "name": "python3"
    },
    "language_info": {
      "name": "python"
    }
  },
  "nbformat": 4,
  "nbformat_minor": 0
}